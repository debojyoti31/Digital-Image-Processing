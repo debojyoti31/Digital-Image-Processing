{
 "cells": [
  {
   "cell_type": "code",
   "execution_count": 7,
   "metadata": {},
   "outputs": [],
   "source": [
    "def hist_image(image_file,intencity):\n",
    "    with open(image_file, 'r') as file:\n",
    "        image = file.read().splitlines()\n",
    "    for pixel in range(3,len(image)):\n",
    "        image[pixel] = int(image[pixel])\n",
    "    return image[4:].count(intencity)\n"
   ]
  },
  {
   "cell_type": "code",
   "execution_count": 17,
   "metadata": {},
   "outputs": [
    {
     "data": {
      "text/plain": [
       "506"
      ]
     },
     "execution_count": 17,
     "metadata": {},
     "output_type": "execute_result"
    }
   ],
   "source": [
    "hist_image('dm31.pgm',100)\n"
   ]
  },
  {
   "cell_type": "code",
   "execution_count": 12,
   "metadata": {},
   "outputs": [],
   "source": [
    "def norm_hist_image(image_file,intencity):\n",
    "    with open(image_file, 'r') as file:\n",
    "        image = file.read().splitlines()\n",
    "    for pixel in range(3,len(image)):\n",
    "        image[pixel] = int(image[pixel])\n",
    "    return image[4:].count(intencity)/len(image[4:])"
   ]
  },
  {
   "cell_type": "code",
   "execution_count": 16,
   "metadata": {},
   "outputs": [
    {
     "data": {
      "text/plain": [
       "0.007720947265625"
      ]
     },
     "execution_count": 16,
     "metadata": {},
     "output_type": "execute_result"
    }
   ],
   "source": [
    "norm_hist_image('dm31.pgm',100)"
   ]
  },
  {
   "cell_type": "code",
   "execution_count": 3,
   "metadata": {},
   "outputs": [],
   "source": [
    "from matplotlib import pyplot as plt"
   ]
  },
  {
   "cell_type": "code",
   "execution_count": 26,
   "metadata": {},
   "outputs": [],
   "source": [
    "def plot_norm_hist_image(image_file):\n",
    "    with open(image_file, 'r') as file:\n",
    "        image = file.read().splitlines()\n",
    "    for pixel in range(3,len(image)):\n",
    "        image[pixel] = int(image[pixel])\n",
    "    c = []\n",
    "    for intencity in range(image[3]+1):\n",
    "        c.append(image[4:].count(intencity)/len(image[4:]))\n",
    "    plt.bar(range(256),c)"
   ]
  },
  {
   "cell_type": "code",
   "execution_count": 27,
   "metadata": {},
   "outputs": [
    {
     "data": {
      "image/png": "[encoded data removed]",
      "text/plain": [
       "<Figure size 432x288 with 1 Axes>"
      ]
     },
     "metadata": {
      "needs_background": "light"
     },
     "output_type": "display_data"
    }
   ],
   "source": [
    "plot_norm_hist_image('dm31.pgm')"
   ]
  }
 ],
 "metadata": {
  "kernelspec": {
   "display_name": "Python 3.10.6 64-bit",
   "language": "python",
   "name": "python3"
  },
  "language_info": {
   "codemirror_mode": {
    "name": "ipython",
    "version": 3
   },
   "file_extension": ".py",
   "mimetype": "text/x-python",
   "name": "python",
   "nbconvert_exporter": "python",
   "pygments_lexer": "ipython3",
   "version": "3.10.6"
  },
  "orig_nbformat": 4,
  "vscode": {
   "interpreter": {
    "hash": "31f2aee4e71d21fbe5cf8b01ff0e069b9275f58929596ceb00d14d90e3e16cd6"
   }
  }
 },
 "nbformat": 4,
 "nbformat_minor": 2
}
