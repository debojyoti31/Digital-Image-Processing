{
 "cells": [
  {
   "cell_type": "code",
   "execution_count": 5,
   "metadata": {},
   "outputs": [],
   "source": [
    "def noise_reduction(noise_images):\n",
    "    image_list = []\n",
    "    for i in noise_images:\n",
    "        with open(i, 'r') as file:\n",
    "            image = file.read().splitlines()\n",
    "        for pixel in range(3,len(image)):\n",
    "            image[pixel] = int(image[pixel])\n",
    "        image_list.append(image[4:])\n",
    "    mat = [round(i/len(noise_images)) for i in list(map(sum,zip(*image_list)))]\n",
    "    noise_free = image[:4]+mat\n",
    "    with open(str(len(noise_images))+'_noise_free', 'w') as file:\t\n",
    "\t    file.writelines(\"% s\\n\" % pixel for pixel in noise_free)"
   ]
  },
  {
   "cell_type": "code",
   "execution_count": 6,
   "metadata": {},
   "outputs": [],
   "source": [
    "noise_images = ['BURST'+str(i)+'.pgm' for i in range(1,51)]\n",
    "noise_reduction(noise_images)"
   ]
  }
 ],
 "metadata": {
  "kernelspec": {
   "display_name": "Python 3.10.6 64-bit",
   "language": "python",
   "name": "python3"
  },
  "language_info": {
   "codemirror_mode": {
    "name": "ipython",
    "version": 3
   },
   "file_extension": ".py",
   "mimetype": "text/x-python",
   "name": "python",
   "nbconvert_exporter": "python",
   "pygments_lexer": "ipython3",
   "version": "3.10.6"
  },
  "orig_nbformat": 4,
  "vscode": {
   "interpreter": {
    "hash": "31f2aee4e71d21fbe5cf8b01ff0e069b9275f58929596ceb00d14d90e3e16cd6"
   }
  }
 },
 "nbformat": 4,
 "nbformat_minor": 2
}
