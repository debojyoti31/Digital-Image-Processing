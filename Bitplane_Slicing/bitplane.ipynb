{
 "cells": [
  {
   "cell_type": "code",
   "execution_count": 1,
   "metadata": {},
   "outputs": [],
   "source": [
    "def bit_plane(image_file,bit):\n",
    "    with open(image_file, 'r') as file:\n",
    "        image = file.read().splitlines()\n",
    "    for pixel in range(4,len(image)):\n",
    "        image[pixel] = int(image[pixel])\n",
    "    image[3] = 1\n",
    "    for pixel in range(4,len(image)):\n",
    "        if (image[pixel]%(2**bit)) >= (2**(bit-1)):\n",
    "            image[pixel] = 1\n",
    "        else:\n",
    "            image[pixel] = 0\n",
    "    with open(str(bit)+'bit_plane_'+image_file, 'w') as file:\t\n",
    "\t    file.writelines(\"% s\\n\" % pixel for pixel in image)       "
   ]
  },
  {
   "cell_type": "code",
   "execution_count": 2,
   "metadata": {},
   "outputs": [],
   "source": [
    "bit_plane('Alan_Turing.pgm',8)"
   ]
  },
  {
   "cell_type": "code",
   "execution_count": 2,
   "metadata": {},
   "outputs": [],
   "source": [
    "for i in range(1,9):\n",
    "    bit_plane('Alan_Turing.pgm',i)"
   ]
  }
 ],
 "metadata": {
  "kernelspec": {
   "display_name": "Python 3.10.6 64-bit",
   "language": "python",
   "name": "python3"
  },
  "language_info": {
   "codemirror_mode": {
    "name": "ipython",
    "version": 3
   },
   "file_extension": ".py",
   "mimetype": "text/x-python",
   "name": "python",
   "nbconvert_exporter": "python",
   "pygments_lexer": "ipython3",
   "version": "3.10.6"
  },
  "orig_nbformat": 4,
  "vscode": {
   "interpreter": {
    "hash": "31f2aee4e71d21fbe5cf8b01ff0e069b9275f58929596ceb00d14d90e3e16cd6"
   }
  }
 },
 "nbformat": 4,
 "nbformat_minor": 2
}
