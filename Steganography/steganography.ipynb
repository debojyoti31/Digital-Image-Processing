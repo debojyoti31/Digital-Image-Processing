{
 "cells": [
  {
   "cell_type": "code",
   "execution_count": 28,
   "metadata": {},
   "outputs": [],
   "source": [
    "import numpy as np"
   ]
  },
  {
   "cell_type": "code",
   "execution_count": 29,
   "metadata": {},
   "outputs": [],
   "source": [
    "def bit_plane(image_file,bit=1):\n",
    "    with open(image_file, 'r') as file:\n",
    "        image = file.read().splitlines()\n",
    "    for pixel in range(4,len(image)):\n",
    "        image[pixel] = int(image[pixel])\n",
    "    image_array = np.array(image[4:])\n",
    "    for i in range(len(image_array)):\n",
    "        if image_array[i]%(2**bit) < (2**(bit-1)):\n",
    "            image_array[i] = 0\n",
    "        else:\n",
    "            image_array[i] = 1 \n",
    "    return image_array"
   ]
  },
  {
   "cell_type": "code",
   "execution_count": 30,
   "metadata": {},
   "outputs": [],
   "source": [
    "def thresold(image_file,l = 100):\n",
    "    with open(image_file, 'r') as file:\n",
    "        image = file.read().splitlines()\n",
    "    for pixel in range(4,len(image)):\n",
    "        image[pixel] = int(image[pixel])\n",
    "    image_array = np.array(image[4:])\n",
    "    for i in range(len(image_array)):\n",
    "        if image_array[i] < l:\n",
    "            image_array[i] = 0\n",
    "        else:\n",
    "            image_array[i] = 1 \n",
    "    return image_array"
   ]
  },
  {
   "cell_type": "code",
   "execution_count": 31,
   "metadata": {},
   "outputs": [],
   "source": [
    "def encrypt(image_file,  msg1,msg1_thr = 100,  msg2=0,msg2_thr = 100):\n",
    "    with open(image_file, 'r') as file:\n",
    "        image = file.read().splitlines()\n",
    "    for pixel in range(4,len(image)):\n",
    "        image[pixel] = int(image[pixel])\n",
    "    \n",
    "    image_array = np.array(image[4:])\n",
    "    fst_bit = bit_plane(image_file,bit=1)\n",
    "    msg_image1 = thresold(msg1,l = msg1_thr)\n",
    "    \n",
    "\n",
    "    if msg2==0:\n",
    "        image_array = image_array-fst_bit+msg_image1\n",
    "    else:\n",
    "        snd_bit = bit_plane(image_file,bit=2)\n",
    "        msg_image2 = thresold(msg2,l = msg2_thr)\n",
    "        image_array = image_array-fst_bit+msg_image1-2*snd_bit+2*msg_image2\n",
    "\n",
    "\n",
    "    with open('crypt'+image_file, 'w') as file:\n",
    "        file.writelines(\"% s\\n\" % pixel for pixel in image[:4])\n",
    "        file.writelines(\"% s\\n\" % pixel for pixel in image_array) "
   ]
  },
  {
   "cell_type": "code",
   "execution_count": 32,
   "metadata": {},
   "outputs": [],
   "source": [
    "def decrypt(image_file,bit=1):\n",
    "    with open(image_file, 'r') as file:\n",
    "        image = file.read().splitlines()\n",
    "    for pixel in range(4,len(image)):\n",
    "        image[pixel] = int(image[pixel])\n",
    "    image[3] = 1\n",
    "    image_array = np.array(image[4:])\n",
    "\n",
    "    image_array = [0 if i%(2**bit) < (2**(bit-1)) else 1 for i in image_array]\n",
    "    \n",
    "    with open(str(bit)+'decrypt'+image_file, 'w') as file:\t\n",
    "        file.writelines(\"% s\\n\" % pixel for pixel in image[:4])\n",
    "        file.writelines(\"% s\\n\" % pixel for pixel in image_array)   \n",
    "\n",
    "    return type(image_array) "
   ]
  },
  {
   "cell_type": "code",
   "execution_count": 34,
   "metadata": {},
   "outputs": [],
   "source": [
    "encrypt('x.pgm', 'msg1.pgm',192, 'msg2.pgm',192)\n",
    "\n",
    "for i in range(1,3 ):\n",
    "    decrypt('cryptx.pgm',bit=i)"
   ]
  }
 ],
 "metadata": {
  "kernelspec": {
   "display_name": "Python 3.10.6 64-bit",
   "language": "python",
   "name": "python3"
  },
  "language_info": {
   "codemirror_mode": {
    "name": "ipython",
    "version": 3
   },
   "file_extension": ".py",
   "mimetype": "text/x-python",
   "name": "python",
   "nbconvert_exporter": "python",
   "pygments_lexer": "ipython3",
   "version": "3.10.6"
  },
  "orig_nbformat": 4,
  "vscode": {
   "interpreter": {
    "hash": "31f2aee4e71d21fbe5cf8b01ff0e069b9275f58929596ceb00d14d90e3e16cd6"
   }
  }
 },
 "nbformat": 4,
 "nbformat_minor": 2
}
