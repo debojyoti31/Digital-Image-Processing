{
 "cells": [
  {
   "cell_type": "code",
   "execution_count": 9,
   "metadata": {},
   "outputs": [],
   "source": [
    "import numpy as np"
   ]
  },
  {
   "cell_type": "code",
   "execution_count": 10,
   "metadata": {},
   "outputs": [],
   "source": [
    "def tsm(image):\n",
    "\n",
    "    threshold = np.mean(image)\n",
    "\n",
    "    epsilon = 1e-6\n",
    "\n",
    "    m1 = 0\n",
    "    m2 = 0\n",
    "\n",
    "    while True:\n",
    "\n",
    "        g1 = image[image > threshold]\n",
    "        g2 = image[image <= threshold]\n",
    "\n",
    "        m1 = np.mean(g1) if len(g1) > 0 else m1\n",
    "        m2 = np.mean(g2) if len(g2) > 0 else m2\n",
    "\n",
    "        new_threshold = (m1 + m2) / 2\n",
    "\n",
    "        if abs(new_threshold - threshold) < epsilon:\n",
    "            break\n",
    "\n",
    "        threshold = new_threshold\n",
    "\n",
    "    return threshold\n"
   ]
  },
  {
   "cell_type": "code",
   "execution_count": 11,
   "metadata": {},
   "outputs": [],
   "source": [
    "def otsu_threshold(image):\n",
    "\n",
    "    hist = np.histogram(image, bins=256, range=(0, 255))[0]\n",
    "\n",
    "    hist = hist / hist.sum()\n",
    "\n",
    "    csum = np.cumsum(hist)\n",
    "\n",
    "    csum_sq = np.cumsum(hist * hist)\n",
    "\n",
    "    csum_xy = np.cumsum(hist * np.arange(256))\n",
    "\n",
    "    mean = csum_xy[-1] / csum[-1]\n",
    "\n",
    "    max_var_bt = 0\n",
    "    threshold = 0\n",
    "\n",
    "    for i in range(1, 256):\n",
    "\n",
    "        p0, p1 = csum[i], 1 - csum[i]\n",
    "        m0 = csum_xy[i]/p0 if p0!=0 else np.finfo(float).eps \n",
    "        m1 = (csum_xy[-1] - csum_xy[i])/p1 if p1!=0 else np.finfo(float).eps\n",
    "\n",
    "\n",
    "        var_bt = p0 * (m0 - mean) ** 2 + p1 * (m1 - mean) ** 2\n",
    "\n",
    "        if var_bt > max_var_bt:\n",
    "            max_var_bt = var_bt\n",
    "            threshold = i\n",
    "\n",
    "    return threshold\n"
   ]
  },
  {
   "cell_type": "code",
   "execution_count": 12,
   "metadata": {},
   "outputs": [],
   "source": [
    "def read_pgm(image_file):\n",
    "    with open(image_file, 'r') as file:\n",
    "        image = file.read().splitlines()\n",
    "    for pixel in range(3,len(image)):\n",
    "        image[pixel] = int(image[pixel])\n",
    "    image_matrix = np.array(image[4:]).reshape(int(image[2].split()[1]),int(image[2].split()[0]))\n",
    "    return (image_matrix, image[:4])"
   ]
  },
  {
   "cell_type": "code",
   "execution_count": 13,
   "metadata": {},
   "outputs": [],
   "source": [
    "def matrix2pgm(image_matrix,initial,output_image_file_name = str(np.random.randint(1,100000000000)) + '_default.pgm'):    \n",
    "    with open(output_image_file_name, 'w') as file:\n",
    "        file.writelines(\"% s\\n\" % pixel for pixel in initial)\n",
    "        file.writelines(\"% s\\n\" % int(abs(pixel)) for pixel in image_matrix.flatten())"
   ]
  },
  {
   "cell_type": "code",
   "execution_count": 14,
   "metadata": {},
   "outputs": [],
   "source": [
    "image_file = 'z.pgm'\n",
    "image = read_pgm(image_file)"
   ]
  },
  {
   "cell_type": "code",
   "execution_count": 15,
   "metadata": {},
   "outputs": [
    {
     "data": {
      "text/plain": [
       "191"
      ]
     },
     "execution_count": 15,
     "metadata": {},
     "output_type": "execute_result"
    }
   ],
   "source": [
    "threshold = otsu_threshold(image[0])\n",
    "threshold"
   ]
  },
  {
   "cell_type": "code",
   "execution_count": 16,
   "metadata": {},
   "outputs": [],
   "source": [
    "thresholded_image = np.where(image[0] > threshold, 255, 0)"
   ]
  },
  {
   "cell_type": "code",
   "execution_count": 17,
   "metadata": {},
   "outputs": [],
   "source": [
    "matrix2pgm(thresholded_image,image[1],output_image_file_name = 'otsu_'+image_file)"
   ]
  },
  {
   "cell_type": "code",
   "execution_count": 18,
   "metadata": {},
   "outputs": [
    {
     "data": {
      "text/plain": [
       "180.4561668320934"
      ]
     },
     "execution_count": 18,
     "metadata": {},
     "output_type": "execute_result"
    }
   ],
   "source": [
    "threshold1 = tsm(image[0])\n",
    "threshold1"
   ]
  },
  {
   "cell_type": "code",
   "execution_count": 19,
   "metadata": {},
   "outputs": [],
   "source": [
    "thresholded_image1 = np.where(image[0] > threshold1, 255, 0)"
   ]
  },
  {
   "cell_type": "code",
   "execution_count": 20,
   "metadata": {},
   "outputs": [],
   "source": [
    "matrix2pgm(thresholded_image1,image[1],output_image_file_name = 'tsm_'+image_file)"
   ]
  }
 ],
 "metadata": {
  "kernelspec": {
   "display_name": "Python 3",
   "language": "python",
   "name": "python3"
  },
  "language_info": {
   "codemirror_mode": {
    "name": "ipython",
    "version": 3
   },
   "file_extension": ".py",
   "mimetype": "text/x-python",
   "name": "python",
   "nbconvert_exporter": "python",
   "pygments_lexer": "ipython3",
   "version": "3.10.6 (main, Nov 14 2022, 16:10:14) [GCC 11.3.0]"
  },
  "orig_nbformat": 4,
  "vscode": {
   "interpreter": {
    "hash": "916dbcbb3f70747c44a77c7bcd40155683ae19c65e1c03b4aa3499c5328201f1"
   }
  }
 },
 "nbformat": 4,
 "nbformat_minor": 2
}
