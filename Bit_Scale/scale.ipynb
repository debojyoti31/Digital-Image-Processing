{
 "cells": [
  {
   "cell_type": "code",
   "execution_count": 2,
   "metadata": {},
   "outputs": [],
   "source": [
    "def scale_image(image_file,bit):\n",
    "    with open(image_file, 'r') as file:\n",
    "        image = file.read().splitlines()\n",
    "    for pixel in range(3,len(image)):\n",
    "        image[pixel] = int(image[pixel])\n",
    "    l = int((2**bit)-1)\n",
    "    image[3] = l\n",
    "    m1 = min(image[4:])\n",
    "    x = [pixel- m1 for pixel in image[4:]]\n",
    "    m2 = max(x)\n",
    "    y = [int(round(l*(pixel/m2))) for pixel in x]\n",
    "    with open(str(bit)+'_biti_scaled_'+image_file, 'w') as file:\n",
    "        file.writelines(\"% s\\n\" % pixel for pixel in image[:4])\n",
    "        file.writelines(\"% s\\n\" % pixel for pixel in y)"
   ]
  },
  {
   "cell_type": "code",
   "execution_count": 3,
   "metadata": {},
   "outputs": [],
   "source": [
    "for i in range(1,9):\n",
    "    scale_image('16bit.pgm',i)"
   ]
  }
 ],
 "metadata": {
  "kernelspec": {
   "display_name": "Python 3.10.6 64-bit",
   "language": "python",
   "name": "python3"
  },
  "language_info": {
   "codemirror_mode": {
    "name": "ipython",
    "version": 3
   },
   "file_extension": ".py",
   "mimetype": "text/x-python",
   "name": "python",
   "nbconvert_exporter": "python",
   "pygments_lexer": "ipython3",
   "version": "3.10.6"
  },
  "orig_nbformat": 4,
  "vscode": {
   "interpreter": {
    "hash": "916dbcbb3f70747c44a77c7bcd40155683ae19c65e1c03b4aa3499c5328201f1"
   }
  }
 },
 "nbformat": 4,
 "nbformat_minor": 2
}
