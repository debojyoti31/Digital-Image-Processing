{
 "cells": [
  {
   "cell_type": "code",
   "execution_count": 1,
   "metadata": {},
   "outputs": [],
   "source": [
    "def scale_image(image_file,bit):\n",
    "    with open(image_file, 'r') as file:\n",
    "        image = file.read().splitlines()\n",
    "    for pixel in range(3,len(image)):\n",
    "        image[pixel] = int(image[pixel])\n",
    "    l = int((2**bit)-1)\n",
    "    image[3] = l\n",
    "    for pixel in range(4,len(image)):\n",
    "        image[pixel] = image[pixel]- min(image[4:])\n",
    "        image[pixel] = int(round(l*(image[pixel]/max((image[4:]))),0))\n",
    "    with open(str(bit)+'_biti_scaled_'+image_file, 'w') as file:\t\n",
    "\t    file.writelines(\"% s\\n\" % pixel for pixel in image)"
   ]
  },
  {
   "cell_type": "code",
   "execution_count": null,
   "metadata": {},
   "outputs": [],
   "source": [
    "scale_image('16bit.pgm',8)"
   ]
  }
 ],
 "metadata": {
  "kernelspec": {
   "display_name": "Python 3.10.6 64-bit",
   "language": "python",
   "name": "python3"
  },
  "language_info": {
   "codemirror_mode": {
    "name": "ipython",
    "version": 3
   },
   "file_extension": ".py",
   "mimetype": "text/x-python",
   "name": "python",
   "nbconvert_exporter": "python",
   "pygments_lexer": "ipython3",
   "version": "3.10.6"
  },
  "orig_nbformat": 4,
  "vscode": {
   "interpreter": {
    "hash": "916dbcbb3f70747c44a77c7bcd40155683ae19c65e1c03b4aa3499c5328201f1"
   }
  }
 },
 "nbformat": 4,
 "nbformat_minor": 2
}
