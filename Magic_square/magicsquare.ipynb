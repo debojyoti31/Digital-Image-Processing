{
 "cells": [
  {
   "cell_type": "code",
   "execution_count": 5,
   "metadata": {},
   "outputs": [
    {
     "data": {
      "text/plain": [
       "array([[15.,  8.,  1., 24., 17.],\n",
       "       [16., 14.,  7.,  5., 23.],\n",
       "       [22., 20., 13.,  6.,  4.],\n",
       "       [ 3., 21., 19., 12., 10.],\n",
       "       [ 9.,  2., 25., 18., 11.]])"
      ]
     },
     "execution_count": 5,
     "metadata": {},
     "output_type": "execute_result"
    }
   ],
   "source": [
    "import numpy as np\n",
    "def magic_sqare(n):\n",
    "    m = np.zeros((n,n))\n",
    "    i = 0\n",
    "    j = int(n/2)\n",
    "    e = 1\n",
    "    while e <= n**2:\n",
    "        m[i,j] = e\n",
    "        i1 = (i-1) % n\n",
    "        j1 = (j-1) % n\n",
    "        e = e+1\n",
    "        if m[i1,j1] != 0:\n",
    "            i = i+1\n",
    "        else:\n",
    "            i = i1\n",
    "            j = j1\n",
    "    return m\n",
    "magic_sqare(5)"
   ]
  }
 ],
 "metadata": {
  "kernelspec": {
   "display_name": "Python 3.10.6 64-bit",
   "language": "python",
   "name": "python3"
  },
  "language_info": {
   "codemirror_mode": {
    "name": "ipython",
    "version": 3
   },
   "file_extension": ".py",
   "mimetype": "text/x-python",
   "name": "python",
   "nbconvert_exporter": "python",
   "pygments_lexer": "ipython3",
   "version": "3.10.6"
  },
  "orig_nbformat": 4,
  "vscode": {
   "interpreter": {
    "hash": "31f2aee4e71d21fbe5cf8b01ff0e069b9275f58929596ceb00d14d90e3e16cd6"
   }
  }
 },
 "nbformat": 4,
 "nbformat_minor": 2
}
