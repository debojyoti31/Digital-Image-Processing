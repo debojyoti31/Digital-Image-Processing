{
 "cells": [
  {
   "cell_type": "code",
   "execution_count": 1,
   "metadata": {},
   "outputs": [],
   "source": [
    "def neg_image(image_file):\n",
    "    with open(image_file, 'r') as file:\n",
    "        image = file.read().splitlines()\n",
    "    for pixel in range(4,len(image)):\n",
    "        image[pixel] = int(image[pixel])\n",
    "    for pixel in range(4,len(image)):\n",
    "        image[pixel] = int(image[3])-image[pixel]\n",
    "    with open('neg_'+image_file, 'w') as file:\t\n",
    "\t    file.writelines(\"% s\\n\" % pixel for pixel in image)"
   ]
  },
  {
   "cell_type": "code",
   "execution_count": 6,
   "metadata": {},
   "outputs": [],
   "source": [
    "neg_image('Alan_Turing.pgm')"
   ]
  }
 ],
 "metadata": {
  "kernelspec": {
   "display_name": "Python 3.10.6 64-bit",
   "language": "python",
   "name": "python3"
  },
  "language_info": {
   "codemirror_mode": {
    "name": "ipython",
    "version": 3
   },
   "file_extension": ".py",
   "mimetype": "text/x-python",
   "name": "python",
   "nbconvert_exporter": "python",
   "pygments_lexer": "ipython3",
   "version": "3.10.6"
  },
  "orig_nbformat": 4,
  "vscode": {
   "interpreter": {
    "hash": "916dbcbb3f70747c44a77c7bcd40155683ae19c65e1c03b4aa3499c5328201f1"
   }
  }
 },
 "nbformat": 4,
 "nbformat_minor": 2
}
