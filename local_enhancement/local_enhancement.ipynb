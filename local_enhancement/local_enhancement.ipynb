{
 "cells": [
  {
   "cell_type": "code",
   "execution_count": 1,
   "metadata": {},
   "outputs": [
    {
     "data": {
      "text/plain": [
       "<Figure size 432x288 with 0 Axes>"
      ]
     },
     "metadata": {},
     "output_type": "display_data"
    }
   ],
   "source": [
    "import numpy as np\n",
    "import matplotlib.pyplot as plt\n",
    "plt.set_cmap(\"gray\")"
   ]
  },
  {
   "cell_type": "code",
   "execution_count": 2,
   "metadata": {},
   "outputs": [],
   "source": [
    "# Read a PGM Image and return image matrix and its initials separately\n",
    "def read_pgm(image_file):\n",
    "    with open(image_file, 'r') as file:\n",
    "        image = file.read().splitlines()\n",
    "    for pixel in range(3,len(image)):\n",
    "        image[pixel] = int(image[pixel])\n",
    "    image_matrix = np.array(image[4:]).reshape(int(image[2].split()[1]),int(image[2].split()[0]))\n",
    "    return (image_matrix, image[:4])"
   ]
  },
  {
   "cell_type": "code",
   "execution_count": 3,
   "metadata": {},
   "outputs": [],
   "source": [
    "# Define Zero Padding\n",
    "def zero_padding(image_matrix, width):\n",
    "    padded_matrix = np.zeros((image_matrix.shape[0]+2*width,image_matrix.shape[1]+2*width))   \n",
    "    padded_matrix[width:-width, width:-width] = image_matrix    \n",
    "    return padded_matrix"
   ]
  },
  {
   "cell_type": "code",
   "execution_count": 4,
   "metadata": {},
   "outputs": [],
   "source": [
    "def local_enhancement(image_matrix, width, c, k0,k1,k2,k3 ):\n",
    "    mg = np.mean(image_matrix)\n",
    "    sg = np.std(image_matrix)\n",
    "    k = (width-1)//2\n",
    "    padded_image_matrix = zero_padding(image_matrix, k)\n",
    "    filtered_matrix = np.zeros((image_matrix.shape[0],image_matrix.shape[1]))\n",
    "    progress = 0\n",
    "    print('local_enhancement progress (in %)...')   \n",
    "    for i in range(k,padded_image_matrix.shape[0]-k):\n",
    "        for j in range(k,padded_image_matrix.shape[1]-k):          \n",
    "            progress = progress +1\n",
    "            if progress%10 == 0:           \n",
    "                print(round(progress/image_matrix.size*100,2), end='\\r')\n",
    "            neighborhood = padded_image_matrix[i-k:i+k+1,j-k:j+k+1]\n",
    "            ms = np.mean(neighborhood)\n",
    "            ss = np.std(neighborhood) \n",
    "            if ((k0*mg <= ms <= k1*mg) and (k2*sg <= ss <= k3*sg)):\n",
    "                filtered_matrix[i-k,j-k] = int(c*image_matrix[i-k,j-k])\n",
    "            else:\n",
    "                filtered_matrix[i-k,j-k] = image_matrix[i-k,j-k] \n",
    "    return filtered_matrix"
   ]
  },
  {
   "cell_type": "code",
   "execution_count": 5,
   "metadata": {},
   "outputs": [],
   "source": [
    "# Write PGM Image from matrix.\n",
    "def matrix2pgm(image_matrix,initial,output_image_file_name = str(np.random.randint(1,100000000000)) + '_default.pgm'):    \n",
    "    with open(output_image_file_name, 'w') as file:\n",
    "        file.writelines(\"% s\\n\" % pixel for pixel in initial)\n",
    "        file.writelines(\"% s\\n\" % int(abs(pixel)) for pixel in image_matrix.flatten())"
   ]
  },
  {
   "cell_type": "code",
   "execution_count": 6,
   "metadata": {},
   "outputs": [
    {
     "name": "stdout",
     "output_type": "stream",
     "text": [
      "mg =  173.12918234345605\n",
      "sg =  89.20491157989242\n"
     ]
    },
    {
     "data": {
      "image/png": "[encoded data removed]",
      "text/plain": [
       "<Figure size 432x288 with 1 Axes>"
      ]
     },
     "metadata": {
      "needs_background": "light"
     },
     "output_type": "display_data"
    }
   ],
   "source": [
    "image = read_pgm('v.pgm')\n",
    "image_matrix = image[0]\n",
    "plt.imshow(image_matrix)\n",
    "print('mg = ',np.mean(image_matrix))\n",
    "print('sg = ',np.std(image_matrix))"
   ]
  },
  {
   "cell_type": "code",
   "execution_count": 7,
   "metadata": {},
   "outputs": [
    {
     "name": "stdout",
     "output_type": "stream",
     "text": [
      "local_enhancement progress (in %)...\n",
      "99.99\r"
     ]
    },
    {
     "data": {
      "image/png": "[encoded data removed]",
      "text/plain": [
       "<Figure size 432x288 with 1 Axes>"
      ]
     },
     "metadata": {
      "needs_background": "light"
     },
     "output_type": "display_data"
    }
   ],
   "source": [
    "# Sharpened Image\n",
    "filtered_matrix = local_enhancement(image_matrix, 3, 10.25, 0,0.194,0,0.194 )\n",
    "filtered_matrix[filtered_matrix>255]=255\n",
    "plt.imshow(filtered_matrix)\n",
    "matrix2pgm(filtered_matrix,image[1],output_image_file_name = 'enhanced.pgm')"
   ]
  }
 ],
 "metadata": {
  "kernelspec": {
   "display_name": "Python 3.10.6 64-bit",
   "language": "python",
   "name": "python3"
  },
  "language_info": {
   "codemirror_mode": {
    "name": "ipython",
    "version": 3
   },
   "file_extension": ".py",
   "mimetype": "text/x-python",
   "name": "python",
   "nbconvert_exporter": "python",
   "pygments_lexer": "ipython3",
   "version": "3.10.6"
  },
  "orig_nbformat": 4,
  "vscode": {
   "interpreter": {
    "hash": "916dbcbb3f70747c44a77c7bcd40155683ae19c65e1c03b4aa3499c5328201f1"
   }
  }
 },
 "nbformat": 4,
 "nbformat_minor": 2
}
