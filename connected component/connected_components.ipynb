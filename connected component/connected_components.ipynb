{
 "cells": [
  {
   "cell_type": "code",
   "execution_count": 8,
   "metadata": {},
   "outputs": [],
   "source": [
    "import numpy as np"
   ]
  },
  {
   "cell_type": "code",
   "execution_count": 9,
   "metadata": {},
   "outputs": [],
   "source": [
    "def matrix2pgm(image_matrix,initial,output_image_file_name = str(np.random.randint(1,100000000000)) + '_default.pgm'):    \n",
    "    with open(output_image_file_name, 'w') as file:\n",
    "        file.writelines(\"% s\\n\" % pixel for pixel in initial)\n",
    "        file.writelines(\"% s\\n\" % int(abs(pixel)) for pixel in image_matrix.flatten())"
   ]
  },
  {
   "cell_type": "code",
   "execution_count": 10,
   "metadata": {},
   "outputs": [],
   "source": [
    "# Read a PGM Image and return image matrix and its initials separately\n",
    "def read_pgm(image_file):\n",
    "    with open(image_file, 'r') as file:\n",
    "        image = file.read().splitlines()\n",
    "    for pixel in range(3,len(image)):\n",
    "        image[pixel] = int(image[pixel])\n",
    "    image_matrix = np.array(image[4:]).reshape(int(image[2].split()[1]),int(image[2].split()[0]))\n",
    "    return (image_matrix, image[:4])"
   ]
  },
  {
   "cell_type": "code",
   "execution_count": 11,
   "metadata": {},
   "outputs": [],
   "source": [
    "def reduce(x):\n",
    "    for i in range(len(x)):\n",
    "        try:\n",
    "            x1 = x.copy()\n",
    "            for j in range(i+1,len(x)):\n",
    "                try:\n",
    "                    if not x[i].isdisjoint(x[j]):\n",
    "                        x[i] = x[i].union(x[j])\n",
    "                        x.remove(x[j])\n",
    "                except: pass\n",
    "            while len(x)<len(x1):\n",
    "                x1 = x.copy()\n",
    "                for j in range(i+1,len(x)):\n",
    "                    try:\n",
    "                        if not x[i].isdisjoint(x[j]):\n",
    "                            x[i] = x[i].union(x[j])\n",
    "                            x.remove(x[j])\n",
    "                    except: pass\n",
    "        except: pass\n",
    "    return x"
   ]
  },
  {
   "cell_type": "code",
   "execution_count": 12,
   "metadata": {},
   "outputs": [],
   "source": [
    "def label_matrix(image_matrix,V):\n",
    "    label = dict()\n",
    "    c = 0\n",
    "    for i in range(image_matrix.shape[0]):\n",
    "        for j in range(image_matrix.shape[1]):\n",
    "            if image_matrix[i,j] in V:\n",
    "                c = c+1\n",
    "                label[(i,j)] = {c}\n",
    "                for k in range(i-1,i+1+1):\n",
    "                    for l in range(j-1,j+1+1):\n",
    "                        try:\n",
    "                            label[(i,j)] = label[(i,j)].union(label[(k,l)])\n",
    "                        except: pass\n",
    "                if len(label[(i,j)]) > 1:\n",
    "                    label[(i,j)].remove(c)\n",
    "    return label"
   ]
  },
  {
   "cell_type": "code",
   "execution_count": 13,
   "metadata": {},
   "outputs": [],
   "source": [
    "def connected_components(image_file,V,return_image = True,backgroud_intencity = 0):\n",
    "    image_matrix = read_pgm(image_file)\n",
    "    d = label_matrix(image_matrix[0],V)\n",
    "    x = list(d.values())\n",
    "    y = reduce(x.copy())\n",
    "    for f in range(len(y)):\n",
    "        image_matrix1 = image_matrix[0].copy()\n",
    "        for i in range(image_matrix1.shape[0]):\n",
    "            for j in range(image_matrix1.shape[1]):\n",
    "                try:\n",
    "                    if next(iter(d[(i, j)])) in y[f]:\n",
    "                        pass\n",
    "                    else: image_matrix1[i,j] = backgroud_intencity\n",
    "                except: image_matrix1[i,j] = backgroud_intencity\n",
    "        if return_image:\n",
    "            matrix2pgm(image_matrix1,image_matrix[1],output_image_file_name = str(f)+'-th object'+image_file+'.pgm')\n",
    "    print('Total',len(y),'Objects')\n",
    "    return(d,y)\n"
   ]
  },
  {
   "cell_type": "code",
   "execution_count": 14,
   "metadata": {},
   "outputs": [
    {
     "name": "stdout",
     "output_type": "stream",
     "text": [
      "Total 6 Objects\n"
     ]
    }
   ],
   "source": [
    "z = connected_components('l.pgm',list(range(251)),return_image = True,backgroud_intencity = 0)"
   ]
  }
 ],
 "metadata": {
  "kernelspec": {
   "display_name": "Python 3",
   "language": "python",
   "name": "python3"
  },
  "language_info": {
   "codemirror_mode": {
    "name": "ipython",
    "version": 3
   },
   "file_extension": ".py",
   "mimetype": "text/x-python",
   "name": "python",
   "nbconvert_exporter": "python",
   "pygments_lexer": "ipython3",
   "version": "3.10.6"
  },
  "orig_nbformat": 4,
  "vscode": {
   "interpreter": {
    "hash": "916dbcbb3f70747c44a77c7bcd40155683ae19c65e1c03b4aa3499c5328201f1"
   }
  }
 },
 "nbformat": 4,
 "nbformat_minor": 2
}
